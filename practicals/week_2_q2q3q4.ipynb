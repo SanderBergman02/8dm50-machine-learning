{
 "cells": [
  {
   "cell_type": "markdown",
   "metadata": {},
   "source": [
    "# Under- and overfitting, model selection\n",
    "\n",
    "## Preliminaries\n",
    "\n",
    "In the first set of exercises you had to implement the training and evaluation of the linear regression and $k$-NN methods from scratch in order to practice your `numpy` skills. From this set of exercises onward, you can use the implementations provided in `scikit-learn` or other higher-level libraries. We start this set of exercises by demonstrating some of the features of `scikit-learn`.\n",
    "\n",
    "For example, implementation of linear regression model fitting with an analytical solution for the parameters is provided by the class `sklearn.linar_model.LinearRegression`. You can train a linear regression model in the following way:"
   ]
  },
  {
   "cell_type": "code",
   "execution_count": 1,
   "metadata": {},
   "outputs": [
    {
     "data": {
      "text/plain": [
       "LinearRegression()"
      ]
     },
     "execution_count": 1,
     "metadata": {},
     "output_type": "execute_result"
    }
   ],
   "source": [
    "import numpy as np\n",
    "from sklearn import datasets, linear_model\n",
    "\n",
    "# load the diabetes dataset\n",
    "diabetes = datasets.load_diabetes()\n",
    "\n",
    "# use only one feature\n",
    "X = diabetes.data[:, np.newaxis, 2]\n",
    "y = diabetes.target\n",
    "\n",
    "\n",
    "# split the data into training/testing sets\n",
    "X_train = X[:-20]\n",
    "X_test = X[-20:]\n",
    "\n",
    "# split the targets into training/testing sets\n",
    "y_train = y[:-20]\n",
    "y_test = y[-20:]\n",
    "\n",
    "# create linear regression object\n",
    "model = linear_model.LinearRegression()\n",
    "\n",
    "# train the model using the training dataset\n",
    "model.fit(X_train, y_train)"
   ]
  },
  {
   "cell_type": "markdown",
   "metadata": {},
   "source": [
    "Let's visualize the training dataset and the learned regression model."
   ]
  },
  {
   "cell_type": "code",
   "execution_count": 2,
   "metadata": {},
   "outputs": [
    {
     "data": {
      "image/png": "[encoded data removed]",
      "text/plain": [
       "<Figure size 432x288 with 1 Axes>"
      ]
     },
     "metadata": {
      "needs_background": "light"
     },
     "output_type": "display_data"
    }
   ],
   "source": [
    "%matplotlib inline\n",
    "import matplotlib.pyplot as plt\n",
    "\n",
    "fig = plt.figure()\n",
    "plt.plot(X_train, y_train, 'r.', markersize=12)\n",
    "X_edge = np.array([np.min(X_train, 0), np.max(X_train, 0)])\n",
    "plt.plot(X_edge, model.predict(X_edge), 'b-')\n",
    "plt.legend(('Data', 'Linear regression'), loc='lower right')\n",
    "plt.title('Linear regression')\n",
    "plt.xlabel('$x$')\n",
    "plt.ylabel('$y$')\n",
    "plt.show()"
   ]
  },
  {
   "cell_type": "markdown",
   "metadata": {},
   "source": [
    "Once trained, the model can be used to make predictions on the test data:"
   ]
  },
  {
   "cell_type": "code",
   "execution_count": 3,
   "metadata": {},
   "outputs": [],
   "source": [
    "# Make predictions using the testing dataset\n",
    "prediction = model.predict(X_test)"
   ]
  },
  {
   "cell_type": "markdown",
   "metadata": {},
   "source": [
    "The next step (not shown here) is to evaluate the performance of the trained model.\n",
    "\n",
    "Note that the `scikit-learn` interface works by first initializing an object from the class that implements the machine learning model (linear regression in this case) and then fitting the initialized model using the data in the training set. Finally, the trained (fitted) model can be used to make predictions on unseen data. In fact, all models implemented in this library follow the same *initialize-fit-predict* programming interface. For example, a $k$-NN classifier can be trained in the following way:"
   ]
  },
  {
   "cell_type": "code",
   "execution_count": 4,
   "metadata": {},
   "outputs": [],
   "source": [
    "from sklearn.model_selection import train_test_split\n",
    "from sklearn import datasets, neighbors\n",
    "\n",
    "breast_cancer = datasets.load_breast_cancer()\n",
    "\n",
    "X = breast_cancer.data\n",
    "y = breast_cancer.target\n",
    "\n",
    "# make use of the train_test_split() utility function instead\n",
    "# of manually dividing the data\n",
    "X_train, X_test, y_train, y_test = train_test_split(X, y, stratify=y, random_state=40)\n",
    "\n",
    "# initialize a 3-NN classifier\n",
    "model = neighbors.KNeighborsClassifier(n_neighbors=3)\n",
    "\n",
    "# train the model using the training dataset\n",
    "model.fit(X_train, y_train)\n",
    "\n",
    "# make predictions using the testing dataset\n",
    "prediction = model.predict(X_test)"
   ]
  },
  {
   "cell_type": "markdown",
   "metadata": {},
   "source": [
    "Note that the features in the breast cancer dataset have different scales (some have on average very small absolute values, and some very large), which means that the distance metric used by $k$-NN will me dominated by the features with large values. You can use any of the number of feature transformation methods implemented in `scikit-learn` to scale the features. For example, you can use the `sklearn.preprocessing.StandardScaler` method to transform all features to a have a zero mean and unit variance:"
   ]
  },
  {
   "cell_type": "code",
   "execution_count": 5,
   "metadata": {},
   "outputs": [],
   "source": [
    "from sklearn.preprocessing import StandardScaler\n",
    "\n",
    "scaler = StandardScaler()\n",
    "scaler.fit(X_train)\n",
    "\n",
    "X_train_scaled = scaler.transform(X_train)"
   ]
  },
  {
   "cell_type": "markdown",
   "metadata": {},
   "source": [
    "The scaler has its own parameters which are the means and standard deviations of the features estimated from the training set. If you train a model with the scaled features, you will have to remember to also apply the scaling transformation every time you make a prediction on new unseen and unscaled data. This is somewhat prone to error. One option for making the code more robust is to create a processing pipeline that includes the scaling and $k$-NN models in a sequence:"
   ]
  },
  {
   "cell_type": "code",
   "execution_count": 6,
   "metadata": {},
   "outputs": [],
   "source": [
    "from sklearn.pipeline import Pipeline\n",
    "\n",
    "knn = neighbors.KNeighborsClassifier(n_neighbors=3)\n",
    "\n",
    "model = Pipeline([\n",
    "                 (\"scaler\", scaler),\n",
    "                 (\"knn\", knn)\n",
    "                ])\n",
    "\n",
    "# train the model using the training dataset\n",
    "model.fit(X_train, y_train)\n",
    "\n",
    "# make predictions using the testing dataset\n",
    "prediction = model.predict(X_test)\n"
   ]
  },
  {
   "cell_type": "markdown",
   "metadata": {},
   "source": [
    "If you are curious, more information about the design of the `scikit-learn` application programming interface (API) can be found [in this paper](https://arxiv.org/pdf/1309.0238.pdf). "
   ]
  },
  {
   "cell_type": "markdown",
   "metadata": {},
   "source": [
    "## Exercises\n",
    "\n",
    "### Bias-variance decomposition\n",
    "\n",
    "Show that the mean squared error of the estimate of a parameter can be decomposed into an expression that includes both the bias and variance (Eq. 5.53-5.54 in \"Deep learning\" by Goodfellow et al.). "
   ]
  },
  {
   "cell_type": "markdown",
   "metadata": {},
   "source": [
    "### Polynomial regression\n",
    "\n",
    "For this exercise we will be using generated data to better show the effects of the different polynomial orders.\n",
    "The data is created using the make_polynomial_regression function."
   ]
  },
  {
   "cell_type": "code",
   "execution_count": 7,
   "metadata": {},
   "outputs": [
    {
     "data": {
      "text/plain": [
       "[<matplotlib.lines.Line2D at 0x1d52139bba8>]"
      ]
     },
     "execution_count": 7,
     "metadata": {},
     "output_type": "execute_result"
    },
    {
     "data": {
      "image/png": "[encoded data removed]",
      "text/plain": [
       "<Figure size 432x288 with 1 Axes>"
      ]
     },
     "metadata": {
      "needs_background": "light"
     },
     "output_type": "display_data"
    }
   ],
   "source": [
    "%matplotlib inline\n",
    "\n",
    "def generate_dataset(n=100, degree=1, noise=1, factors=None):\n",
    "    # Generates a dataset by adding random noise to a randomly\n",
    "    # generated polynomial function.\n",
    "    \n",
    "    x = np.random.uniform(low=-1, high=1, size=n)\n",
    "    \n",
    "    factors = np.random.uniform(0, 10, degree+1)\n",
    "    \n",
    "    y = np.zeros(x.shape)\n",
    "    \n",
    "    for idx in range(degree+1):\n",
    "        y += factors[idx] * (x ** idx)\n",
    "\n",
    "    # add noise\n",
    "    y += np.random.normal(-noise, noise, n)\n",
    "    \n",
    "    return x, y\n",
    "\n",
    "# load generated data\n",
    "np.random.seed(0)\n",
    "\n",
    "X, y = generate_dataset(n=100, degree=4, noise=1.5)\n",
    "\n",
    "plt.plot(X, y, 'r.', markersize=12)"
   ]
  },
  {
   "cell_type": "markdown",
   "metadata": {},
   "source": [
    "Implement polynomial regression using the `sklearn.preprocessing.PolynomialFeatures` transformation. Using the `sklearn.grid_search.GridSearchCV` class, perform a grid search of the polynomial order hyperparameter space with cross-validation and report the performance on an independent test set.\n",
    "\n",
    "Plot a learning curve that show the validation accuracy as a function of the polynomial order. \n",
    "\n",
    "<p><font color='#770a0a'>Which models have a high bias, and which models have high variance? Motivate your answer.</font><p>\n",
    "    \n",
    "Repeat this experiment, this time using the diabetes dataset instead of the generated data."
   ]
  },
  {
   "cell_type": "markdown",
   "metadata": {},
   "source": [
    "<p><font color='#770a0a'>Models with a higher polynomial order are more (over)fitted to training data. This will cause the model have a higher variance but a lower bias since it is more 'based' off, thus dependent on, the training data causing more spread but less capability of generalization.</font><p>"
   ]
  },
  {
   "cell_type": "code",
   "execution_count": 46,
   "metadata": {},
   "outputs": [
    {
     "name": "stdout",
     "output_type": "stream",
     "text": [
      "Before: (100, 1)\n",
      "After : (100, 1)\n",
      "Shape X = , (75, 1)\n",
      "Shape y = (75,)\n",
      "Fitting 5 folds for each of 15 candidates, totalling 75 fits\n",
      "[CV] END .....................................poly__degree=1; total time=   0.0s\n",
      "[CV] END .....................................poly__degree=1; total time=   0.0s\n",
      "[CV] END .....................................poly__degree=1; total time=   0.0s\n",
      "[CV] END .....................................poly__degree=1; total time=   0.0s\n",
      "[CV] END .....................................poly__degree=1; total time=   0.0s\n",
      "[CV] END .....................................poly__degree=2; total time=   0.0s\n",
      "[CV] END .....................................poly__degree=2; total time=   0.0s\n",
      "[CV] END .....................................poly__degree=2; total time=   0.0s\n",
      "[CV] END .....................................poly__degree=2; total time=   0.0s\n",
      "[CV] END .....................................poly__degree=2; total time=   0.0s\n",
      "[CV] END .....................................poly__degree=3; total time=   0.0s\n",
      "[CV] END .....................................poly__degree=3; total time=   0.0s\n",
      "[CV] END .....................................poly__degree=3; total time=   0.0s\n",
      "[CV] END .....................................poly__degree=3; total time=   0.0s\n",
      "[CV] END .....................................poly__degree=3; total time=   0.0s\n",
      "[CV] END .....................................poly__degree=4; total time=   0.0s\n",
      "[CV] END .....................................poly__degree=4; total time=   0.0s\n",
      "[CV] END .....................................poly__degree=4; total time=   0.0s\n",
      "[CV] END .....................................poly__degree=4; total time=   0.0s\n",
      "[CV] END .....................................poly__degree=4; total time=   0.0s\n",
      "[CV] END .....................................poly__degree=5; total time=   0.0s\n",
      "[CV] END .....................................poly__degree=5; total time=   0.0s\n",
      "[CV] END .....................................poly__degree=5; total time=   0.0s\n",
      "[CV] END .....................................poly__degree=5; total time=   0.0s\n",
      "[CV] END .....................................poly__degree=5; total time=   0.0s\n",
      "[CV] END .....................................poly__degree=6; total time=   0.0s\n",
      "[CV] END .....................................poly__degree=6; total time=   0.0s\n",
      "[CV] END .....................................poly__degree=6; total time=   0.0s\n",
      "[CV] END .....................................poly__degree=6; total time=   0.0s\n",
      "[CV] END .....................................poly__degree=6; total time=   0.0s\n",
      "[CV] END .....................................poly__degree=7; total time=   0.0s\n",
      "[CV] END .....................................poly__degree=7; total time=   0.0s\n",
      "[CV] END .....................................poly__degree=7; total time=   0.0s\n",
      "[CV] END .....................................poly__degree=7; total time=   0.0s\n",
      "[CV] END .....................................poly__degree=7; total time=   0.0s\n",
      "[CV] END .....................................poly__degree=8; total time=   0.0s\n",
      "[CV] END .....................................poly__degree=8; total time=   0.0s\n",
      "[CV] END .....................................poly__degree=8; total time=   0.0s\n",
      "[CV] END .....................................poly__degree=8; total time=   0.0s\n",
      "[CV] END .....................................poly__degree=8; total time=   0.0s\n",
      "[CV] END .....................................poly__degree=9; total time=   0.0s\n",
      "[CV] END .....................................poly__degree=9; total time=   0.0s\n",
      "[CV] END .....................................poly__degree=9; total time=   0.0s\n",
      "[CV] END .....................................poly__degree=9; total time=   0.0s\n",
      "[CV] END .....................................poly__degree=9; total time=   0.0s\n",
      "[CV] END ....................................poly__degree=10; total time=   0.0s\n",
      "[CV] END ....................................poly__degree=10; total time=   0.0s\n",
      "[CV] END ....................................poly__degree=10; total time=   0.0s\n",
      "[CV] END ....................................poly__degree=10; total time=   0.0s\n",
      "[CV] END ....................................poly__degree=10; total time=   0.0s\n",
      "[CV] END ....................................poly__degree=11; total time=   0.0s\n",
      "[CV] END ....................................poly__degree=11; total time=   0.0s\n",
      "[CV] END ....................................poly__degree=11; total time=   0.0s\n",
      "[CV] END ....................................poly__degree=11; total time=   0.0s\n",
      "[CV] END ....................................poly__degree=11; total time=   0.0s\n",
      "[CV] END ....................................poly__degree=12; total time=   0.0s\n",
      "[CV] END ....................................poly__degree=12; total time=   0.0s\n",
      "[CV] END ....................................poly__degree=12; total time=   0.0s\n",
      "[CV] END ....................................poly__degree=12; total time=   0.0s\n",
      "[CV] END ....................................poly__degree=12; total time=   0.0s\n",
      "[CV] END ....................................poly__degree=13; total time=   0.0s\n",
      "[CV] END ....................................poly__degree=13; total time=   0.0s\n",
      "[CV] END ....................................poly__degree=13; total time=   0.0s\n",
      "[CV] END ....................................poly__degree=13; total time=   0.0s\n",
      "[CV] END ....................................poly__degree=13; total time=   0.0s\n",
      "[CV] END ....................................poly__degree=14; total time=   0.0s\n",
      "[CV] END ....................................poly__degree=14; total time=   0.0s\n",
      "[CV] END ....................................poly__degree=14; total time=   0.0s\n",
      "[CV] END ....................................poly__degree=14; total time=   0.0s\n",
      "[CV] END ....................................poly__degree=14; total time=   0.0s\n",
      "[CV] END ....................................poly__degree=15; total time=   0.0s\n",
      "[CV] END ....................................poly__degree=15; total time=   0.0s\n",
      "[CV] END ....................................poly__degree=15; total time=   0.0s\n",
      "[CV] END ....................................poly__degree=15; total time=   0.0s\n",
      "[CV] END ....................................poly__degree=15; total time=   0.0s\n",
      "best parameters:  {'poly__degree': 3}\n",
      "MSE test set:  2.763853140907559\n"
     ]
    }
   ],
   "source": [
    "import sklearn\n",
    "from sklearn.preprocessing import PolynomialFeatures\n",
    "from sklearn.preprocessing import StandardScaler\n",
    "from sklearn.linear_model import LinearRegression\n",
    "from sklearn.model_selection import GridSearchCV\n",
    "from sklearn.pipeline import Pipeline\n",
    "\n",
    "# check shapes, X was interpreted as wrong dimension input\n",
    "print(\"Before:\", X.shape)   \n",
    "X = np.asarray(X).reshape(-1, 1)\n",
    "print(\"After :\", X.shape)   \n",
    "X_train, X_test, y_train, y_test = train_test_split(X, y)\n",
    "print(\"Shape X = ,\", X_train.shape)\n",
    "print(\"Shape y =\", y_train.shape)\n",
    "\n",
    "PipeL = Pipeline([('poly', PolynomialFeatures(include_bias=False)), ('scaler', StandardScaler()), ('model', LinearRegression())])\n",
    "param_grid = {'poly__degree': [1,2,3,4,5,6,7,8,9,10,11,12,13,14,15]}\n",
    "grid_search = GridSearchCV(estimator=PipeL, param_grid=param_grid, scoring = 'neg_mean_squared_error', cv=5, refit=True, verbose=2, return_train_score=True)\n",
    "grid_search.fit(X_train, y_train)\n",
    "\n",
    "best_params = grid_search.best_params_\n",
    "print(\"best parameters: \", best_params)\n",
    "y_predict = grid_search.predict(X_test)\n",
    "\n",
    "MSE_X_test = sklearn.metrics.mean_squared_error(y_test, y_predict)\n",
    "print(\"MSE test set: \", MSE_X_test)\n",
    "\n",
    "\n",
    "\n",
    "#grid_param = GridSearchCV(X)\n",
    "#print(\"Grid param = \", grid_param)"
   ]
  },
  {
   "cell_type": "code",
   "execution_count": 43,
   "metadata": {},
   "outputs": [
    {
     "name": "stdout",
     "output_type": "stream",
     "text": [
      "   degrees  train_mse   test_mse\n",
      "0        1  14.107118  17.118411\n",
      "1        2   3.979621   4.702984\n",
      "2        3   2.312108   2.442019\n",
      "3        4   2.174409   2.403179\n",
      "4        5   2.148916   2.425213\n",
      "5        6   2.015646   2.393865\n",
      "6        7   2.005671   2.456451\n",
      "7        8   2.001017   2.474479\n",
      "8        9   1.985285   2.665052\n",
      "9       10   1.968195   2.694488\n",
      "10      11   1.957031   2.862018\n",
      "11      12   1.954042   2.916615\n",
      "12      13   1.944048   2.978030\n",
      "13      14   1.922091   3.653893\n",
      "14      15   1.876217   7.758811\n"
     ]
    },
    {
     "data": {
      "image/png": "[encoded data removed]",
      "text/plain": [
       "<Figure size 432x288 with 1 Axes>"
      ]
     },
     "metadata": {
      "needs_background": "light"
     },
     "output_type": "display_data"
    }
   ],
   "source": [
    "import pandas as pd\n",
    "results_GS = grid_search.cv_results_\n",
    "#print(results_GS)\n",
    "\n",
    "mean_neg_mse_test = results_GS['mean_test_score']\n",
    "std_neg_mse_test = results_GS['std_test_score']\n",
    "mean_neg_mse_train = results_GS['mean_train_score']\n",
    "std_neg_mse_train = results_GS['std_train_score']\n",
    "\n",
    "mean_mse_train = -mean_neg_mse_train\n",
    "mean_mse_test = -mean_neg_mse_test\n",
    "\n",
    "degrees = results_GS['param_poly__degree']\n",
    "\n",
    "df = pd.DataFrame({'degrees': degrees, 'train_mse': mean_mse_train, 'test_mse': mean_mse_test})\n",
    "print(df)    \n",
    "\n",
    "plt.figure()\n",
    "plt.plot(df['degrees'], df['train_mse'], label = \"train_mse\")\n",
    "plt.plot(df['degrees'], df['test_mse'], label= \"test_mse\")\n",
    "plt.xlabel(\"degree\")\n",
    "plt.ylabel('MSE')\n",
    "plt.title(\"train and test MSE by polynomial degree\")\n",
    "plt.legend()\n",
    "plt.show()"
   ]
  },
  {
   "cell_type": "code",
   "execution_count": 44,
   "metadata": {},
   "outputs": [
    {
     "name": "stdout",
     "output_type": "stream",
     "text": [
      "After : (100, 1)\n",
      "Shape X = , (331, 1)\n",
      "Shape y = (331,)\n",
      "Fitting 5 folds for each of 10 candidates, totalling 50 fits\n",
      "[CV] END .....................................poly__degree=1; total time=   0.0s\n",
      "[CV] END .....................................poly__degree=1; total time=   0.0s\n",
      "[CV] END .....................................poly__degree=1; total time=   0.0s\n",
      "[CV] END .....................................poly__degree=1; total time=   0.0s\n",
      "[CV] END .....................................poly__degree=1; total time=   0.0s\n",
      "[CV] END .....................................poly__degree=2; total time=   0.0s\n",
      "[CV] END .....................................poly__degree=2; total time=   0.0s\n",
      "[CV] END .....................................poly__degree=2; total time=   0.0s\n",
      "[CV] END .....................................poly__degree=2; total time=   0.0s\n",
      "[CV] END .....................................poly__degree=2; total time=   0.0s\n",
      "[CV] END .....................................poly__degree=3; total time=   0.0s\n",
      "[CV] END .....................................poly__degree=3; total time=   0.0s\n",
      "[CV] END .....................................poly__degree=3; total time=   0.0s\n",
      "[CV] END .....................................poly__degree=3; total time=   0.0s\n",
      "[CV] END .....................................poly__degree=3; total time=   0.0s\n",
      "[CV] END .....................................poly__degree=4; total time=   0.0s\n",
      "[CV] END .....................................poly__degree=4; total time=   0.0s\n",
      "[CV] END .....................................poly__degree=4; total time=   0.0s\n",
      "[CV] END .....................................poly__degree=4; total time=   0.0s\n",
      "[CV] END .....................................poly__degree=4; total time=   0.0s\n",
      "[CV] END .....................................poly__degree=5; total time=   0.0s\n",
      "[CV] END .....................................poly__degree=5; total time=   0.0s\n",
      "[CV] END .....................................poly__degree=5; total time=   0.0s\n",
      "[CV] END .....................................poly__degree=5; total time=   0.0s\n",
      "[CV] END .....................................poly__degree=5; total time=   0.0s\n",
      "[CV] END .....................................poly__degree=6; total time=   0.0s\n",
      "[CV] END .....................................poly__degree=6; total time=   0.0s\n",
      "[CV] END .....................................poly__degree=6; total time=   0.0s\n",
      "[CV] END .....................................poly__degree=6; total time=   0.0s\n",
      "[CV] END .....................................poly__degree=6; total time=   0.0s\n",
      "[CV] END .....................................poly__degree=7; total time=   0.0s\n",
      "[CV] END .....................................poly__degree=7; total time=   0.0s\n",
      "[CV] END .....................................poly__degree=7; total time=   0.0s\n",
      "[CV] END .....................................poly__degree=7; total time=   0.0s\n",
      "[CV] END .....................................poly__degree=7; total time=   0.0s\n",
      "[CV] END .....................................poly__degree=8; total time=   0.0s\n",
      "[CV] END .....................................poly__degree=8; total time=   0.0s\n",
      "[CV] END .....................................poly__degree=8; total time=   0.0s\n",
      "[CV] END .....................................poly__degree=8; total time=   0.0s\n",
      "[CV] END .....................................poly__degree=8; total time=   0.0s\n",
      "[CV] END .....................................poly__degree=9; total time=   0.0s\n",
      "[CV] END .....................................poly__degree=9; total time=   0.0s\n",
      "[CV] END .....................................poly__degree=9; total time=   0.0s\n",
      "[CV] END .....................................poly__degree=9; total time=   0.0s\n",
      "[CV] END .....................................poly__degree=9; total time=   0.0s\n",
      "[CV] END ....................................poly__degree=10; total time=   0.0s\n",
      "[CV] END ....................................poly__degree=10; total time=   0.0s\n",
      "[CV] END ....................................poly__degree=10; total time=   0.0s\n",
      "[CV] END ....................................poly__degree=10; total time=   0.0s\n",
      "[CV] END ....................................poly__degree=10; total time=   0.0s\n",
      "best parameters:  {'poly__degree': 1}\n",
      "MSE test set:  4234.721243761244\n"
     ]
    }
   ],
   "source": [
    "import sklearn\n",
    "from sklearn.preprocessing import PolynomialFeatures\n",
    "from sklearn.preprocessing import StandardScaler\n",
    "from sklearn.linear_model import LinearRegression\n",
    "from sklearn.model_selection import GridSearchCV\n",
    "from sklearn.pipeline import Pipeline\n",
    "\n",
    "# load the diabetes dataset\n",
    "diabetes = datasets.load_diabetes()\n",
    "\n",
    "# use only one feature\n",
    "X_diabetes = diabetes.data[:, np.newaxis, 2]\n",
    "y_diabetes = diabetes.target\n",
    "\n",
    "#print(\"Before:\", X.shape)   \n",
    "#X = np.asarray(X).reshape(-1, 1)\n",
    "print(\"After :\", X.shape)   \n",
    "X_train, X_test, y_train, y_test = train_test_split(X_diabetes, y_diabetes)\n",
    "print(\"Shape X = ,\", X_train.shape)\n",
    "print(\"Shape y =\", y_train.shape)\n",
    "\n",
    "PipeL = Pipeline([('poly', PolynomialFeatures(include_bias=False)), ('scaler', StandardScaler()), ('model', LinearRegression())])\n",
    "param_grid = {'poly__degree': [1,2,3,4,5,6,7,8,9,10]}\n",
    "grid_search = GridSearchCV(estimator=PipeL, param_grid=param_grid, scoring = 'neg_mean_squared_error', cv=5, refit=True, verbose=2, return_train_score=True)\n",
    "grid_search.fit(X_train, y_train)\n",
    "\n",
    "best_params = grid_search.best_params_\n",
    "print(\"best parameters: \", best_params)\n",
    "y_predict = grid_search.predict(X_test)\n",
    "\n",
    "MSE_X_test = sklearn.metrics.mean_squared_error(y_test, y_predict)\n",
    "print(\"MSE test set: \", MSE_X_test)\n",
    "\n",
    "\n",
    "\n",
    "#grid_param = GridSearchCV(X)\n",
    "#print(\"Grid param = \", grid_param)"
   ]
  },
  {
   "cell_type": "code",
   "execution_count": 45,
   "metadata": {},
   "outputs": [
    {
     "name": "stdout",
     "output_type": "stream",
     "text": [
      "  degrees    train_mse     test_mse\n",
      "0       1  3769.532056  3832.344489\n",
      "1       2  3767.159085  3853.189096\n",
      "2       3  3749.032440  3879.424011\n",
      "3       4  3735.987685  3910.327187\n",
      "4       5  3706.979391  3867.009178\n",
      "5       6  3673.813858  3851.158485\n",
      "6       7  3658.093024  4080.007694\n",
      "7       8  3644.298291  4642.207426\n",
      "8       9  3623.988224  4116.655880\n",
      "9      10  3619.334484  4582.364185\n"
     ]
    },
    {
     "data": {
      "image/png": "[encoded data removed]",
      "text/plain": [
       "<Figure size 432x288 with 1 Axes>"
      ]
     },
     "metadata": {
      "needs_background": "light"
     },
     "output_type": "display_data"
    }
   ],
   "source": [
    "import pandas as pd\n",
    "results_GS = grid_search.cv_results_\n",
    "#print(results_GS)\n",
    "\n",
    "mean_neg_mse_test = results_GS['mean_test_score']\n",
    "std_neg_mse_test = results_GS['std_test_score']\n",
    "mean_neg_mse_train = results_GS['mean_train_score']\n",
    "std_neg_mse_train = results_GS['std_train_score']\n",
    "\n",
    "mean_mse_train = -mean_neg_mse_train\n",
    "mean_mse_test = -mean_neg_mse_test\n",
    "\n",
    "degrees = results_GS['param_poly__degree']\n",
    "\n",
    "df = pd.DataFrame({'degrees': degrees, 'train_mse': mean_mse_train, 'test_mse': mean_mse_test})\n",
    "print(df)    \n",
    "\n",
    "plt.figure()\n",
    "plt.plot(df['degrees'], df['train_mse'], label = \"train_mse\")\n",
    "plt.plot(df['degrees'], df['test_mse'], label= \"test_mse\")\n",
    "plt.xlabel(\"degree\")\n",
    "plt.ylabel('MSE')\n",
    "plt.title(\"train and test MSE by polynomial degree diabetes set\")\n",
    "plt.legend()\n",
    "plt.show()"
   ]
  },
  {
   "cell_type": "markdown",
   "metadata": {},
   "source": [
    "### ROC curve analysis\n",
    "A common method to evaluate binary classifiers is the receiver operating characteristic (ROC) curve. Similar to the week one practicals, implement a $k$-NN classifier on the breast cancer dataset, however, his time use the $k$-NN pipeline from the preliminary. Train the model for different values of $k$ and evaluate their respective performance with an ROC curve, use the `sklearn.metrics.roc_curve` function."
   ]
  },
  {
   "cell_type": "code",
   "execution_count": 37,
   "metadata": {},
   "outputs": [
    {
     "data": {
      "image/png": "[encoded data removed]",
      "text/plain": [
       "<Figure size 720x576 with 1 Axes>"
      ]
     },
     "metadata": {
      "needs_background": "light"
     },
     "output_type": "display_data"
    },
    {
     "name": "stdout",
     "output_type": "stream",
     "text": [
      "Fitting 5 folds for each of 6 candidates, totalling 30 fits\n",
      "[CV] END .................................knn__n_neighbors=5; total time=   0.0s\n",
      "[CV] END .................................knn__n_neighbors=5; total time=   0.0s\n",
      "[CV] END .................................knn__n_neighbors=5; total time=   0.0s\n",
      "[CV] END .................................knn__n_neighbors=5; total time=   0.0s\n",
      "[CV] END .................................knn__n_neighbors=5; total time=   0.0s\n",
      "[CV] END .................................knn__n_neighbors=6; total time=   0.0s\n",
      "[CV] END .................................knn__n_neighbors=6; total time=   0.0s\n",
      "[CV] END .................................knn__n_neighbors=6; total time=   0.0s\n",
      "[CV] END .................................knn__n_neighbors=6; total time=   0.0s\n",
      "[CV] END .................................knn__n_neighbors=6; total time=   0.0s\n",
      "[CV] END .................................knn__n_neighbors=7; total time=   0.0s\n",
      "[CV] END .................................knn__n_neighbors=7; total time=   0.0s\n",
      "[CV] END .................................knn__n_neighbors=7; total time=   0.0s\n",
      "[CV] END .................................knn__n_neighbors=7; total time=   0.0s\n",
      "[CV] END .................................knn__n_neighbors=7; total time=   0.0s\n",
      "[CV] END .................................knn__n_neighbors=8; total time=   0.0s\n",
      "[CV] END .................................knn__n_neighbors=8; total time=   0.0s\n",
      "[CV] END .................................knn__n_neighbors=8; total time=   0.0s\n",
      "[CV] END .................................knn__n_neighbors=8; total time=   0.0s\n",
      "[CV] END .................................knn__n_neighbors=8; total time=   0.0s\n",
      "[CV] END .................................knn__n_neighbors=9; total time=   0.0s\n",
      "[CV] END .................................knn__n_neighbors=9; total time=   0.0s\n",
      "[CV] END .................................knn__n_neighbors=9; total time=   0.0s\n",
      "[CV] END .................................knn__n_neighbors=9; total time=   0.0s\n",
      "[CV] END .................................knn__n_neighbors=9; total time=   0.0s\n",
      "[CV] END ................................knn__n_neighbors=10; total time=   0.0s\n",
      "[CV] END ................................knn__n_neighbors=10; total time=   0.0s\n",
      "[CV] END ................................knn__n_neighbors=10; total time=   0.0s\n",
      "[CV] END ................................knn__n_neighbors=10; total time=   0.0s\n",
      "[CV] END ................................knn__n_neighbors=10; total time=   0.0s\n",
      "best parameters:  {'knn__n_neighbors': 9}\n",
      "  NNeighbors   ROC_AUC\n",
      "0          5  0.990078\n",
      "1          6  0.990367\n",
      "2          7  0.989140\n",
      "3          8  0.990304\n",
      "4          9  0.991396\n",
      "5         10  0.991342\n"
     ]
    },
    {
     "data": {
      "image/png": "[encoded data removed]",
      "text/plain": [
       "<Figure size 432x288 with 1 Axes>"
      ]
     },
     "metadata": {
      "needs_background": "light"
     },
     "output_type": "display_data"
    }
   ],
   "source": [
    "from sklearn.pipeline import Pipeline\n",
    "from sklearn.metrics import roc_curve\n",
    "breast_cancer = datasets.load_breast_cancer()\n",
    "X_breast_cancer = breast_cancer.data\n",
    "y_breast_cancer = breast_cancer.target\n",
    "X_train, X_test, y_train, y_test = train_test_split(X_breast_cancer, y_breast_cancer, random_state=40)\n",
    "\n",
    "\n",
    "# min max range\n",
    "min_neighbours = 5\n",
    "max_neighbours = 10\n",
    "\n",
    "\n",
    "#initialize figure for looped plotting\n",
    "plt.figure(figsize = (10,8))\n",
    "\n",
    "for k in range(min_neighbours, max_neighbours+1):\n",
    "    \n",
    "\n",
    "    knn = neighbors.KNeighborsClassifier(n_neighbors = k)\n",
    "    model = Pipeline([(\"scaler\", StandardScaler()),\n",
    "                     (\"knn\", knn)])\n",
    "    model.fit(X_train, y_train)\n",
    "    y_pred = model.predict_proba(X_test)[:,1] # predict_proba explores all thresholds and not just 0.5\n",
    "    \n",
    "\n",
    "    fpr, tpr, threshold = roc_curve(y_test, y_pred)\n",
    "   \n",
    "    \n",
    "    plt.plot(fpr, tpr, label=f'k={k}')\n",
    "plt.xlabel(\"fpr\")\n",
    "plt.ylabel(\"tpr\")\n",
    "plt.legend()\n",
    "plt.show()\n",
    "\n",
    "\n",
    "\n",
    "\n",
    "### Overall comparison AUC to k\n",
    "\n",
    "knn = neighbors.KNeighborsClassifier()\n",
    "model = Pipeline([\n",
    "                 (\"scaler\", StandardScaler()),\n",
    "                 (\"knn\", knn)\n",
    "                ])\n",
    "param_grid = {'knn__n_neighbors': list(range(min_neighbours, max_neighbours+1))}\n",
    "grid_search = GridSearchCV(estimator=model, param_grid=param_grid, scoring = 'roc_auc', cv=5, refit=True, verbose=2, return_train_score=True)\n",
    "grid_search.fit(X_train, y_train)\n",
    "\n",
    "# prediction with grid_search\n",
    "prediction = grid_search.predict(X_test)\n",
    "\n",
    "best_params = grid_search.best_params_\n",
    "print(\"best parameters: \", best_params)\n",
    "\n",
    "grid_search_results = grid_search.cv_results_\n",
    "\n",
    "# store in DF for plotting\n",
    "df = pd.DataFrame({'NNeighbors': grid_search_results['param_knn__n_neighbors'], 'ROC_AUC': grid_search_results['mean_test_score']})\n",
    "print(df)\n",
    "\n",
    "plt.figure()\n",
    "plt.plot(df['NNeighbors'], df['ROC_AUC'])\n",
    "plt.xlabel('k')\n",
    "plt.ylabel('AUC')\n",
    "plt.title('Overall comparison AUC over number K')\n",
    "plt.show()\n",
    "\n",
    "    "
   ]
  },
  {
   "cell_type": "markdown",
   "metadata": {},
   "source": [
    "### $F_1$ score and Dice similarity coefficient\n",
    "\n",
    "The Dice similarity coefficient is a very popular evaluation measure for image segmentation applications. Assuming that $A$ is the ground truth segmentation of an object represented as a binary image, and $B$ is the binary output of an image segmentation method, the Dice similarity coefficient is computed as:\n",
    "\n",
    "$\\text{Dice}(A,B) = \\frac{2|A\\cap B|}{|A| + |B|}$\n",
    "\n",
    "where $|\\cdot|$ represents the cardinality of the objects (e.g. $|A|$ is the number of non-zero pixels in the ground truth segmentation).\n",
    "\n",
    "For example, the Dice similarity can be computed in the following way:"
   ]
  },
  {
   "cell_type": "code",
   "execution_count": null,
   "metadata": {},
   "outputs": [],
   "source": [
    "# generate some test objecys\n",
    "A = np.zeros((32, 32))\n",
    "A[10:-10, 10:-10] = 1\n",
    "B = np.zeros((32, 32))\n",
    "B[5:-15, 5:-15] = 1\n",
    "\n",
    "dice = 2*np.sum(A*B)/(np.sum(A)+np.sum(B))\n",
    "\n",
    "# display the results\n",
    "plt.plot()\n",
    "plt.imshow(A)\n",
    "plt.imshow(B, alpha=0.7)\n",
    "\n",
    "print(dice)"
   ]
  },
  {
   "cell_type": "markdown",
   "metadata": {},
   "source": [
    "<p><font color='#770a0a'>Show that the $F_1$ score, which is the harmonic mean of precision and recall, is equivalent to the Dice similarity coefficient</font><p>"
   ]
  }
 ],
 "metadata": {
  "kernelspec": {
   "display_name": "Python 3",
   "language": "python",
   "name": "python3"
  },
  "language_info": {
   "codemirror_mode": {
    "name": "ipython",
    "version": 3
   },
   "file_extension": ".py",
   "mimetype": "text/x-python",
   "name": "python",
   "nbconvert_exporter": "python",
   "pygments_lexer": "ipython3",
   "version": "3.6.13"
  }
 },
 "nbformat": 4,
 "nbformat_minor": 2
}
